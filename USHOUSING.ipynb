{
  "cells": [
    {
      "cell_type": "markdown",
      "metadata": {
        "id": "view-in-github",
        "colab_type": "text"
      },
      "source": [
        "<a href=\"https://colab.research.google.com/github/ApoorvaChinta/USA-House-Price-Prediction/blob/main/USHOUSING.ipynb\" target=\"_parent\"><img src=\"https://colab.research.google.com/assets/colab-badge.svg\" alt=\"Open In Colab\"/></a>"
      ]
    },
    {
      "cell_type": "code",
      "execution_count": null,
      "metadata": {
        "id": "hGB_yBy5WYQF"
      },
      "outputs": [],
      "source": [
        "import pandas as pd"
      ]
    },
    {
      "cell_type": "code",
      "execution_count": null,
      "metadata": {
        "id": "pKb-LnfDWlTJ"
      },
      "outputs": [],
      "source": [
        "data=pd.read_csv('https://raw.githubusercontent.com/daksh-intwala/House-Price-Prediction--Regression-Anaylsis/master/main_dataset.csv')"
      ]
    },
    {
      "cell_type": "code",
      "execution_count": null,
      "metadata": {
        "colab": {
          "base_uri": "https://localhost:8080/",
          "height": 444
        },
        "id": "-_N4sSUFYeh6",
        "outputId": "128d9926-2596-4d45-9bbc-aeef6e05d879"
      },
      "outputs": [
        {
          "output_type": "execute_result",
          "data": {
            "text/plain": [
              "   sr_no      date  target_home_price  population  monthly_supply_houses  \\\n",
              "0      1  01-01-00            100.552      281083                    4.3   \n",
              "1      2  01-02-00            101.339      281299                    4.3   \n",
              "2      3  01-03-00            102.127      281531                    4.3   \n",
              "3      4  01-04-00            102.922      281763                    4.4   \n",
              "4      5  01-05-00            103.677      281996                    4.4   \n",
              "\n",
              "   new_permits_thousands  mortgage_rate  gdp_monthly    hcai  \\\n",
              "0                   1727           8.15      101.488  17.087   \n",
              "1                   1692           8.25      101.547  17.087   \n",
              "2                   1651           8.27      101.620  17.087   \n",
              "3                   1597           8.23      101.690  16.594   \n",
              "4                   1543           8.13      101.731  16.594   \n",
              "\n",
              "   employment_percentage  ppi_const_goods  cci_real_estate  deliquency_rate  \\\n",
              "0                 74.248            142.4          103.091             1.48   \n",
              "1                 74.270            142.7          103.151             1.48   \n",
              "2                 74.227            143.2          103.059             1.48   \n",
              "3                 74.505            143.2          103.038             1.44   \n",
              "4                 74.089            142.2          103.009             1.44   \n",
              "\n",
              "   m3_trillion  \n",
              "0       4.6669  \n",
              "1       4.6801  \n",
              "2       4.7108  \n",
              "3       4.7668  \n",
              "4       4.7546  "
            ],
            "text/html": [
              "\n",
              "  <div id=\"df-5f302940-fac9-4db7-8eb7-1a6eca3d7340\">\n",
              "    <div class=\"colab-df-container\">\n",
              "      <div>\n",
              "<style scoped>\n",
              "    .dataframe tbody tr th:only-of-type {\n",
              "        vertical-align: middle;\n",
              "    }\n",
              "\n",
              "    .dataframe tbody tr th {\n",
              "        vertical-align: top;\n",
              "    }\n",
              "\n",
              "    .dataframe thead th {\n",
              "        text-align: right;\n",
              "    }\n",
              "</style>\n",
              "<table border=\"1\" class=\"dataframe\">\n",
              "  <thead>\n",
              "    <tr style=\"text-align: right;\">\n",
              "      <th></th>\n",
              "      <th>sr_no</th>\n",
              "      <th>date</th>\n",
              "      <th>target_home_price</th>\n",
              "      <th>population</th>\n",
              "      <th>monthly_supply_houses</th>\n",
              "      <th>new_permits_thousands</th>\n",
              "      <th>mortgage_rate</th>\n",
              "      <th>gdp_monthly</th>\n",
              "      <th>hcai</th>\n",
              "      <th>employment_percentage</th>\n",
              "      <th>ppi_const_goods</th>\n",
              "      <th>cci_real_estate</th>\n",
              "      <th>deliquency_rate</th>\n",
              "      <th>m3_trillion</th>\n",
              "    </tr>\n",
              "  </thead>\n",
              "  <tbody>\n",
              "    <tr>\n",
              "      <th>0</th>\n",
              "      <td>1</td>\n",
              "      <td>01-01-00</td>\n",
              "      <td>100.552</td>\n",
              "      <td>281083</td>\n",
              "      <td>4.3</td>\n",
              "      <td>1727</td>\n",
              "      <td>8.15</td>\n",
              "      <td>101.488</td>\n",
              "      <td>17.087</td>\n",
              "      <td>74.248</td>\n",
              "      <td>142.4</td>\n",
              "      <td>103.091</td>\n",
              "      <td>1.48</td>\n",
              "      <td>4.6669</td>\n",
              "    </tr>\n",
              "    <tr>\n",
              "      <th>1</th>\n",
              "      <td>2</td>\n",
              "      <td>01-02-00</td>\n",
              "      <td>101.339</td>\n",
              "      <td>281299</td>\n",
              "      <td>4.3</td>\n",
              "      <td>1692</td>\n",
              "      <td>8.25</td>\n",
              "      <td>101.547</td>\n",
              "      <td>17.087</td>\n",
              "      <td>74.270</td>\n",
              "      <td>142.7</td>\n",
              "      <td>103.151</td>\n",
              "      <td>1.48</td>\n",
              "      <td>4.6801</td>\n",
              "    </tr>\n",
              "    <tr>\n",
              "      <th>2</th>\n",
              "      <td>3</td>\n",
              "      <td>01-03-00</td>\n",
              "      <td>102.127</td>\n",
              "      <td>281531</td>\n",
              "      <td>4.3</td>\n",
              "      <td>1651</td>\n",
              "      <td>8.27</td>\n",
              "      <td>101.620</td>\n",
              "      <td>17.087</td>\n",
              "      <td>74.227</td>\n",
              "      <td>143.2</td>\n",
              "      <td>103.059</td>\n",
              "      <td>1.48</td>\n",
              "      <td>4.7108</td>\n",
              "    </tr>\n",
              "    <tr>\n",
              "      <th>3</th>\n",
              "      <td>4</td>\n",
              "      <td>01-04-00</td>\n",
              "      <td>102.922</td>\n",
              "      <td>281763</td>\n",
              "      <td>4.4</td>\n",
              "      <td>1597</td>\n",
              "      <td>8.23</td>\n",
              "      <td>101.690</td>\n",
              "      <td>16.594</td>\n",
              "      <td>74.505</td>\n",
              "      <td>143.2</td>\n",
              "      <td>103.038</td>\n",
              "      <td>1.44</td>\n",
              "      <td>4.7668</td>\n",
              "    </tr>\n",
              "    <tr>\n",
              "      <th>4</th>\n",
              "      <td>5</td>\n",
              "      <td>01-05-00</td>\n",
              "      <td>103.677</td>\n",
              "      <td>281996</td>\n",
              "      <td>4.4</td>\n",
              "      <td>1543</td>\n",
              "      <td>8.13</td>\n",
              "      <td>101.731</td>\n",
              "      <td>16.594</td>\n",
              "      <td>74.089</td>\n",
              "      <td>142.2</td>\n",
              "      <td>103.009</td>\n",
              "      <td>1.44</td>\n",
              "      <td>4.7546</td>\n",
              "    </tr>\n",
              "  </tbody>\n",
              "</table>\n",
              "</div>\n",
              "      <button class=\"colab-df-convert\" onclick=\"convertToInteractive('df-5f302940-fac9-4db7-8eb7-1a6eca3d7340')\"\n",
              "              title=\"Convert this dataframe to an interactive table.\"\n",
              "              style=\"display:none;\">\n",
              "        \n",
              "  <svg xmlns=\"http://www.w3.org/2000/svg\" height=\"24px\"viewBox=\"0 0 24 24\"\n",
              "       width=\"24px\">\n",
              "    <path d=\"M0 0h24v24H0V0z\" fill=\"none\"/>\n",
              "    <path d=\"M18.56 5.44l.94 2.06.94-2.06 2.06-.94-2.06-.94-.94-2.06-.94 2.06-2.06.94zm-11 1L8.5 8.5l.94-2.06 2.06-.94-2.06-.94L8.5 2.5l-.94 2.06-2.06.94zm10 10l.94 2.06.94-2.06 2.06-.94-2.06-.94-.94-2.06-.94 2.06-2.06.94z\"/><path d=\"M17.41 7.96l-1.37-1.37c-.4-.4-.92-.59-1.43-.59-.52 0-1.04.2-1.43.59L10.3 9.45l-7.72 7.72c-.78.78-.78 2.05 0 2.83L4 21.41c.39.39.9.59 1.41.59.51 0 1.02-.2 1.41-.59l7.78-7.78 2.81-2.81c.8-.78.8-2.07 0-2.86zM5.41 20L4 18.59l7.72-7.72 1.47 1.35L5.41 20z\"/>\n",
              "  </svg>\n",
              "      </button>\n",
              "      \n",
              "  <style>\n",
              "    .colab-df-container {\n",
              "      display:flex;\n",
              "      flex-wrap:wrap;\n",
              "      gap: 12px;\n",
              "    }\n",
              "\n",
              "    .colab-df-convert {\n",
              "      background-color: #E8F0FE;\n",
              "      border: none;\n",
              "      border-radius: 50%;\n",
              "      cursor: pointer;\n",
              "      display: none;\n",
              "      fill: #1967D2;\n",
              "      height: 32px;\n",
              "      padding: 0 0 0 0;\n",
              "      width: 32px;\n",
              "    }\n",
              "\n",
              "    .colab-df-convert:hover {\n",
              "      background-color: #E2EBFA;\n",
              "      box-shadow: 0px 1px 2px rgba(60, 64, 67, 0.3), 0px 1px 3px 1px rgba(60, 64, 67, 0.15);\n",
              "      fill: #174EA6;\n",
              "    }\n",
              "\n",
              "    [theme=dark] .colab-df-convert {\n",
              "      background-color: #3B4455;\n",
              "      fill: #D2E3FC;\n",
              "    }\n",
              "\n",
              "    [theme=dark] .colab-df-convert:hover {\n",
              "      background-color: #434B5C;\n",
              "      box-shadow: 0px 1px 3px 1px rgba(0, 0, 0, 0.15);\n",
              "      filter: drop-shadow(0px 1px 2px rgba(0, 0, 0, 0.3));\n",
              "      fill: #FFFFFF;\n",
              "    }\n",
              "  </style>\n",
              "\n",
              "      <script>\n",
              "        const buttonEl =\n",
              "          document.querySelector('#df-5f302940-fac9-4db7-8eb7-1a6eca3d7340 button.colab-df-convert');\n",
              "        buttonEl.style.display =\n",
              "          google.colab.kernel.accessAllowed ? 'block' : 'none';\n",
              "\n",
              "        async function convertToInteractive(key) {\n",
              "          const element = document.querySelector('#df-5f302940-fac9-4db7-8eb7-1a6eca3d7340');\n",
              "          const dataTable =\n",
              "            await google.colab.kernel.invokeFunction('convertToInteractive',\n",
              "                                                     [key], {});\n",
              "          if (!dataTable) return;\n",
              "\n",
              "          const docLinkHtml = 'Like what you see? Visit the ' +\n",
              "            '<a target=\"_blank\" href=https://colab.research.google.com/notebooks/data_table.ipynb>data table notebook</a>'\n",
              "            + ' to learn more about interactive tables.';\n",
              "          element.innerHTML = '';\n",
              "          dataTable['output_type'] = 'display_data';\n",
              "          await google.colab.output.renderOutput(dataTable, element);\n",
              "          const docLink = document.createElement('div');\n",
              "          docLink.innerHTML = docLinkHtml;\n",
              "          element.appendChild(docLink);\n",
              "        }\n",
              "      </script>\n",
              "    </div>\n",
              "  </div>\n",
              "  "
            ]
          },
          "metadata": {},
          "execution_count": 24
        }
      ],
      "source": [
        "data.head()"
      ]
    },
    {
      "cell_type": "code",
      "execution_count": null,
      "metadata": {
        "colab": {
          "base_uri": "https://localhost:8080/"
        },
        "id": "qCAOj1-AYg2m",
        "outputId": "33e9d28b-c7ee-471d-fe9a-0eb4bbd6643a"
      },
      "outputs": [
        {
          "output_type": "execute_result",
          "data": {
            "text/plain": [
              "Index(['sr_no', 'date', 'target_home_price', 'population',\n",
              "       'monthly_supply_houses', 'new_permits_thousands', 'mortgage_rate',\n",
              "       'gdp_monthly', 'hcai', 'employment_percentage', 'ppi_const_goods',\n",
              "       'cci_real_estate', 'deliquency_rate', 'm3_trillion'],\n",
              "      dtype='object')"
            ]
          },
          "metadata": {},
          "execution_count": 25
        }
      ],
      "source": [
        "data.columns"
      ]
    },
    {
      "cell_type": "code",
      "execution_count": null,
      "metadata": {
        "colab": {
          "base_uri": "https://localhost:8080/"
        },
        "id": "faOjNJgEhZxr",
        "outputId": "e664c9b2-cad3-49b9-9b7a-1412f8b21a47"
      },
      "outputs": [
        {
          "output_type": "execute_result",
          "data": {
            "text/plain": [
              "sr_no                    0\n",
              "date                     0\n",
              "target_home_price        0\n",
              "population               0\n",
              "monthly_supply_houses    0\n",
              "new_permits_thousands    0\n",
              "mortgage_rate            0\n",
              "gdp_monthly              0\n",
              "hcai                     0\n",
              "employment_percentage    0\n",
              "ppi_const_goods          0\n",
              "cci_real_estate          0\n",
              "deliquency_rate          0\n",
              "m3_trillion              0\n",
              "dtype: int64"
            ]
          },
          "metadata": {},
          "execution_count": 26
        }
      ],
      "source": [
        "data.isnull().sum()\n",
        "#no null values"
      ]
    },
    {
      "cell_type": "markdown",
      "metadata": {
        "id": "Z83iKfo7YpUj"
      },
      "source": [
        "Exploratory data analysis"
      ]
    },
    {
      "cell_type": "code",
      "execution_count": null,
      "metadata": {
        "id": "At_wOdVkfmmX"
      },
      "outputs": [],
      "source": [
        "#removing date and serial number from the data\n",
        "data=data.drop(['sr_no','date'],axis=1)"
      ]
    },
    {
      "cell_type": "code",
      "execution_count": null,
      "metadata": {
        "id": "dThXU-AYgRO6"
      },
      "outputs": [],
      "source": [
        "from sklearn.model_selection import train_test_split\n",
        "X_train, X_test, y_train, y_test = train_test_split(data.drop(columns=\"target_home_price\", axis=1), data[\"target_home_price\"], \n",
        "                                                    test_size= 0.30, random_state=42)"
      ]
    },
    {
      "cell_type": "code",
      "source": [
        "from sklearn.feature_selection import mutual_info_regression\n",
        "mutual_info=mutual_info_regression(X_train,y_train)\n",
        "mutual_info"
      ],
      "metadata": {
        "colab": {
          "base_uri": "https://localhost:8080/"
        },
        "id": "Hb_TD_VVjNeK",
        "outputId": "3d447e12-395c-4f5c-fa25-98f1167d2d5a"
      },
      "execution_count": null,
      "outputs": [
        {
          "output_type": "execute_result",
          "data": {
            "text/plain": [
              "array([2.48706287, 0.76086508, 1.35388747, 1.22869449, 1.41852562,\n",
              "       1.29026855, 1.57954534, 1.74547119, 0.93041653, 1.20519878,\n",
              "       2.40619187])"
            ]
          },
          "metadata": {},
          "execution_count": 37
        }
      ]
    },
    {
      "cell_type": "code",
      "source": [
        "mutual_info=pd.Series(mutual_info)\n",
        "mutual_info.index=X_train.columns\n",
        "mutual_info.sort_values(ascending=False)"
      ],
      "metadata": {
        "colab": {
          "base_uri": "https://localhost:8080/"
        },
        "id": "0iUe9u19mkLL",
        "outputId": "fdbef413-6ca0-464b-d9a4-5e76e9b5458e"
      },
      "execution_count": null,
      "outputs": [
        {
          "output_type": "execute_result",
          "data": {
            "text/plain": [
              "population               2.487063\n",
              "m3_trillion              2.406192\n",
              "ppi_const_goods          1.745471\n",
              "employment_percentage    1.579545\n",
              "gdp_monthly              1.418526\n",
              "new_permits_thousands    1.353887\n",
              "hcai                     1.290269\n",
              "mortgage_rate            1.228694\n",
              "deliquency_rate          1.205199\n",
              "cci_real_estate          0.930417\n",
              "monthly_supply_houses    0.760865\n",
              "dtype: float64"
            ]
          },
          "metadata": {},
          "execution_count": 38
        }
      ]
    },
    {
      "cell_type": "code",
      "source": [
        "mutual_info.sort_values(ascending=False).plot.bar(figsize=(15,5))"
      ],
      "metadata": {
        "colab": {
          "base_uri": "https://localhost:8080/",
          "height": 451
        },
        "id": "6W2JaifCnK2q",
        "outputId": "ed752416-3451-451f-ecad-a38cf7710694"
      },
      "execution_count": null,
      "outputs": [
        {
          "output_type": "execute_result",
          "data": {
            "text/plain": [
              "<matplotlib.axes._subplots.AxesSubplot at 0x7fca56745280>"
            ]
          },
          "metadata": {},
          "execution_count": 39
        },
        {
          "output_type": "display_data",
          "data": {
            "text/plain": [
              "<Figure size 1080x360 with 1 Axes>"
            ],
            "image/png": "[encoded data removed]"
          },
          "metadata": {
            "needs_background": "light"
          }
        }
      ]
    },
    {
      "cell_type": "code",
      "source": [
        "#since we have less number of features and also they are highly interconnected with eachother we can pick all the features to build the model."
      ],
      "metadata": {
        "id": "j6Gzgi5zn2zU"
      },
      "execution_count": null,
      "outputs": []
    },
    {
      "cell_type": "code",
      "source": [
        "from sklearn.preprocessing import MinMaxScaler\n",
        "scaler = MinMaxScaler()\n",
        "n_data=pd.DataFrame(scaler.fit_transform(data), columns=data.columns, index=data.index) \n",
        "n_data"
      ],
      "metadata": {
        "colab": {
          "base_uri": "https://localhost:8080/",
          "height": 488
        },
        "id": "CukxHNOdsNZA",
        "outputId": "a32691e6-a0fd-4c85-a974-dddbfcae4f30"
      },
      "execution_count": null,
      "outputs": [
        {
          "output_type": "execute_result",
          "data": {
            "text/plain": [
              "     target_home_price  population  monthly_supply_houses  \\\n",
              "0             0.000000    0.000000               0.091954   \n",
              "1             0.005704    0.004330               0.091954   \n",
              "2             0.011415    0.008981               0.091954   \n",
              "3             0.017177    0.013631               0.103448   \n",
              "4             0.022649    0.018302               0.103448   \n",
              "..                 ...         ...                    ...   \n",
              "248           0.908855    0.991320               0.000000   \n",
              "249           0.934134    0.994467               0.000000   \n",
              "250           0.957428    0.997214               0.057471   \n",
              "251           0.978642    0.999118               0.034483   \n",
              "252           1.000000    1.000000               0.011494   \n",
              "\n",
              "     new_permits_thousands  mortgage_rate  gdp_monthly      hcai  \\\n",
              "0                 0.693714       0.911488     0.970310  0.759407   \n",
              "1                 0.673714       0.930320     0.975683  0.759407   \n",
              "2                 0.650286       0.934087     0.982332  0.759407   \n",
              "3                 0.619429       0.926554     0.988707  0.734100   \n",
              "4                 0.588571       0.907721     0.992441  0.734100   \n",
              "..                     ...            ...          ...       ...   \n",
              "248               0.614857       0.214689     0.465847  0.020276   \n",
              "249               0.618286       0.207156     0.477869  0.023151   \n",
              "250               0.676000       0.207156     0.489617  0.023151   \n",
              "251               0.711429       0.145009     0.511566  0.023151   \n",
              "252               0.782857       0.156309     0.533515  0.026025   \n",
              "\n",
              "     employment_percentage  ppi_const_goods  cci_real_estate  deliquency_rate  \\\n",
              "0                 0.981921         0.022886         0.991418         0.097087   \n",
              "1                 0.983468         0.025871         1.000000         0.097087   \n",
              "2                 0.980443         0.030846         0.986840         0.097087   \n",
              "3                 1.000000         0.030846         0.983836         0.092233   \n",
              "4                 0.970735         0.020896         0.979688         0.092233   \n",
              "..                     ...              ...              ...              ...   \n",
              "248               0.469152         0.913433         0.387212         0.038835   \n",
              "249               0.530918         0.912438         0.411100         0.054612   \n",
              "250               0.533873         0.901493         0.404234         0.054612   \n",
              "251               0.544144         0.937313         0.404663         0.054612   \n",
              "252               0.556595         1.000000         0.405378         0.040049   \n",
              "\n",
              "     m3_trillion  \n",
              "0       0.000000  \n",
              "1       0.000896  \n",
              "2       0.002980  \n",
              "3       0.006782  \n",
              "4       0.005954  \n",
              "..           ...  \n",
              "248     0.946265  \n",
              "249     0.956183  \n",
              "250     0.970379  \n",
              "251     0.982002  \n",
              "252     1.000000  \n",
              "\n",
              "[253 rows x 12 columns]"
            ],
            "text/html": [
              "\n",
              "  <div id=\"df-22b73090-6b0a-42df-9d8e-2910e8621cd1\">\n",
              "    <div class=\"colab-df-container\">\n",
              "      <div>\n",
              "<style scoped>\n",
              "    .dataframe tbody tr th:only-of-type {\n",
              "        vertical-align: middle;\n",
              "    }\n",
              "\n",
              "    .dataframe tbody tr th {\n",
              "        vertical-align: top;\n",
              "    }\n",
              "\n",
              "    .dataframe thead th {\n",
              "        text-align: right;\n",
              "    }\n",
              "</style>\n",
              "<table border=\"1\" class=\"dataframe\">\n",
              "  <thead>\n",
              "    <tr style=\"text-align: right;\">\n",
              "      <th></th>\n",
              "      <th>target_home_price</th>\n",
              "      <th>population</th>\n",
              "      <th>monthly_supply_houses</th>\n",
              "      <th>new_permits_thousands</th>\n",
              "      <th>mortgage_rate</th>\n",
              "      <th>gdp_monthly</th>\n",
              "      <th>hcai</th>\n",
              "      <th>employment_percentage</th>\n",
              "      <th>ppi_const_goods</th>\n",
              "      <th>cci_real_estate</th>\n",
              "      <th>deliquency_rate</th>\n",
              "      <th>m3_trillion</th>\n",
              "    </tr>\n",
              "  </thead>\n",
              "  <tbody>\n",
              "    <tr>\n",
              "      <th>0</th>\n",
              "      <td>0.000000</td>\n",
              "      <td>0.000000</td>\n",
              "      <td>0.091954</td>\n",
              "      <td>0.693714</td>\n",
              "      <td>0.911488</td>\n",
              "      <td>0.970310</td>\n",
              "      <td>0.759407</td>\n",
              "      <td>0.981921</td>\n",
              "      <td>0.022886</td>\n",
              "      <td>0.991418</td>\n",
              "      <td>0.097087</td>\n",
              "      <td>0.000000</td>\n",
              "    </tr>\n",
              "    <tr>\n",
              "      <th>1</th>\n",
              "      <td>0.005704</td>\n",
              "      <td>0.004330</td>\n",
              "      <td>0.091954</td>\n",
              "      <td>0.673714</td>\n",
              "      <td>0.930320</td>\n",
              "      <td>0.975683</td>\n",
              "      <td>0.759407</td>\n",
              "      <td>0.983468</td>\n",
              "      <td>0.025871</td>\n",
              "      <td>1.000000</td>\n",
              "      <td>0.097087</td>\n",
              "      <td>0.000896</td>\n",
              "    </tr>\n",
              "    <tr>\n",
              "      <th>2</th>\n",
              "      <td>0.011415</td>\n",
              "      <td>0.008981</td>\n",
              "      <td>0.091954</td>\n",
              "      <td>0.650286</td>\n",
              "      <td>0.934087</td>\n",
              "      <td>0.982332</td>\n",
              "      <td>0.759407</td>\n",
              "      <td>0.980443</td>\n",
              "      <td>0.030846</td>\n",
              "      <td>0.986840</td>\n",
              "      <td>0.097087</td>\n",
              "      <td>0.002980</td>\n",
              "    </tr>\n",
              "    <tr>\n",
              "      <th>3</th>\n",
              "      <td>0.017177</td>\n",
              "      <td>0.013631</td>\n",
              "      <td>0.103448</td>\n",
              "      <td>0.619429</td>\n",
              "      <td>0.926554</td>\n",
              "      <td>0.988707</td>\n",
              "      <td>0.734100</td>\n",
              "      <td>1.000000</td>\n",
              "      <td>0.030846</td>\n",
              "      <td>0.983836</td>\n",
              "      <td>0.092233</td>\n",
              "      <td>0.006782</td>\n",
              "    </tr>\n",
              "    <tr>\n",
              "      <th>4</th>\n",
              "      <td>0.022649</td>\n",
              "      <td>0.018302</td>\n",
              "      <td>0.103448</td>\n",
              "      <td>0.588571</td>\n",
              "      <td>0.907721</td>\n",
              "      <td>0.992441</td>\n",
              "      <td>0.734100</td>\n",
              "      <td>0.970735</td>\n",
              "      <td>0.020896</td>\n",
              "      <td>0.979688</td>\n",
              "      <td>0.092233</td>\n",
              "      <td>0.005954</td>\n",
              "    </tr>\n",
              "    <tr>\n",
              "      <th>...</th>\n",
              "      <td>...</td>\n",
              "      <td>...</td>\n",
              "      <td>...</td>\n",
              "      <td>...</td>\n",
              "      <td>...</td>\n",
              "      <td>...</td>\n",
              "      <td>...</td>\n",
              "      <td>...</td>\n",
              "      <td>...</td>\n",
              "      <td>...</td>\n",
              "      <td>...</td>\n",
              "      <td>...</td>\n",
              "    </tr>\n",
              "    <tr>\n",
              "      <th>248</th>\n",
              "      <td>0.908855</td>\n",
              "      <td>0.991320</td>\n",
              "      <td>0.000000</td>\n",
              "      <td>0.614857</td>\n",
              "      <td>0.214689</td>\n",
              "      <td>0.465847</td>\n",
              "      <td>0.020276</td>\n",
              "      <td>0.469152</td>\n",
              "      <td>0.913433</td>\n",
              "      <td>0.387212</td>\n",
              "      <td>0.038835</td>\n",
              "      <td>0.946265</td>\n",
              "    </tr>\n",
              "    <tr>\n",
              "      <th>249</th>\n",
              "      <td>0.934134</td>\n",
              "      <td>0.994467</td>\n",
              "      <td>0.000000</td>\n",
              "      <td>0.618286</td>\n",
              "      <td>0.207156</td>\n",
              "      <td>0.477869</td>\n",
              "      <td>0.023151</td>\n",
              "      <td>0.530918</td>\n",
              "      <td>0.912438</td>\n",
              "      <td>0.411100</td>\n",
              "      <td>0.054612</td>\n",
              "      <td>0.956183</td>\n",
              "    </tr>\n",
              "    <tr>\n",
              "      <th>250</th>\n",
              "      <td>0.957428</td>\n",
              "      <td>0.997214</td>\n",
              "      <td>0.057471</td>\n",
              "      <td>0.676000</td>\n",
              "      <td>0.207156</td>\n",
              "      <td>0.489617</td>\n",
              "      <td>0.023151</td>\n",
              "      <td>0.533873</td>\n",
              "      <td>0.901493</td>\n",
              "      <td>0.404234</td>\n",
              "      <td>0.054612</td>\n",
              "      <td>0.970379</td>\n",
              "    </tr>\n",
              "    <tr>\n",
              "      <th>251</th>\n",
              "      <td>0.978642</td>\n",
              "      <td>0.999118</td>\n",
              "      <td>0.034483</td>\n",
              "      <td>0.711429</td>\n",
              "      <td>0.145009</td>\n",
              "      <td>0.511566</td>\n",
              "      <td>0.023151</td>\n",
              "      <td>0.544144</td>\n",
              "      <td>0.937313</td>\n",
              "      <td>0.404663</td>\n",
              "      <td>0.054612</td>\n",
              "      <td>0.982002</td>\n",
              "    </tr>\n",
              "    <tr>\n",
              "      <th>252</th>\n",
              "      <td>1.000000</td>\n",
              "      <td>1.000000</td>\n",
              "      <td>0.011494</td>\n",
              "      <td>0.782857</td>\n",
              "      <td>0.156309</td>\n",
              "      <td>0.533515</td>\n",
              "      <td>0.026025</td>\n",
              "      <td>0.556595</td>\n",
              "      <td>1.000000</td>\n",
              "      <td>0.405378</td>\n",
              "      <td>0.040049</td>\n",
              "      <td>1.000000</td>\n",
              "    </tr>\n",
              "  </tbody>\n",
              "</table>\n",
              "<p>253 rows × 12 columns</p>\n",
              "</div>\n",
              "      <button class=\"colab-df-convert\" onclick=\"convertToInteractive('df-22b73090-6b0a-42df-9d8e-2910e8621cd1')\"\n",
              "              title=\"Convert this dataframe to an interactive table.\"\n",
              "              style=\"display:none;\">\n",
              "        \n",
              "  <svg xmlns=\"http://www.w3.org/2000/svg\" height=\"24px\"viewBox=\"0 0 24 24\"\n",
              "       width=\"24px\">\n",
              "    <path d=\"M0 0h24v24H0V0z\" fill=\"none\"/>\n",
              "    <path d=\"M18.56 5.44l.94 2.06.94-2.06 2.06-.94-2.06-.94-.94-2.06-.94 2.06-2.06.94zm-11 1L8.5 8.5l.94-2.06 2.06-.94-2.06-.94L8.5 2.5l-.94 2.06-2.06.94zm10 10l.94 2.06.94-2.06 2.06-.94-2.06-.94-.94-2.06-.94 2.06-2.06.94z\"/><path d=\"M17.41 7.96l-1.37-1.37c-.4-.4-.92-.59-1.43-.59-.52 0-1.04.2-1.43.59L10.3 9.45l-7.72 7.72c-.78.78-.78 2.05 0 2.83L4 21.41c.39.39.9.59 1.41.59.51 0 1.02-.2 1.41-.59l7.78-7.78 2.81-2.81c.8-.78.8-2.07 0-2.86zM5.41 20L4 18.59l7.72-7.72 1.47 1.35L5.41 20z\"/>\n",
              "  </svg>\n",
              "      </button>\n",
              "      \n",
              "  <style>\n",
              "    .colab-df-container {\n",
              "      display:flex;\n",
              "      flex-wrap:wrap;\n",
              "      gap: 12px;\n",
              "    }\n",
              "\n",
              "    .colab-df-convert {\n",
              "      background-color: #E8F0FE;\n",
              "      border: none;\n",
              "      border-radius: 50%;\n",
              "      cursor: pointer;\n",
              "      display: none;\n",
              "      fill: #1967D2;\n",
              "      height: 32px;\n",
              "      padding: 0 0 0 0;\n",
              "      width: 32px;\n",
              "    }\n",
              "\n",
              "    .colab-df-convert:hover {\n",
              "      background-color: #E2EBFA;\n",
              "      box-shadow: 0px 1px 2px rgba(60, 64, 67, 0.3), 0px 1px 3px 1px rgba(60, 64, 67, 0.15);\n",
              "      fill: #174EA6;\n",
              "    }\n",
              "\n",
              "    [theme=dark] .colab-df-convert {\n",
              "      background-color: #3B4455;\n",
              "      fill: #D2E3FC;\n",
              "    }\n",
              "\n",
              "    [theme=dark] .colab-df-convert:hover {\n",
              "      background-color: #434B5C;\n",
              "      box-shadow: 0px 1px 3px 1px rgba(0, 0, 0, 0.15);\n",
              "      filter: drop-shadow(0px 1px 2px rgba(0, 0, 0, 0.3));\n",
              "      fill: #FFFFFF;\n",
              "    }\n",
              "  </style>\n",
              "\n",
              "      <script>\n",
              "        const buttonEl =\n",
              "          document.querySelector('#df-22b73090-6b0a-42df-9d8e-2910e8621cd1 button.colab-df-convert');\n",
              "        buttonEl.style.display =\n",
              "          google.colab.kernel.accessAllowed ? 'block' : 'none';\n",
              "\n",
              "        async function convertToInteractive(key) {\n",
              "          const element = document.querySelector('#df-22b73090-6b0a-42df-9d8e-2910e8621cd1');\n",
              "          const dataTable =\n",
              "            await google.colab.kernel.invokeFunction('convertToInteractive',\n",
              "                                                     [key], {});\n",
              "          if (!dataTable) return;\n",
              "\n",
              "          const docLinkHtml = 'Like what you see? Visit the ' +\n",
              "            '<a target=\"_blank\" href=https://colab.research.google.com/notebooks/data_table.ipynb>data table notebook</a>'\n",
              "            + ' to learn more about interactive tables.';\n",
              "          element.innerHTML = '';\n",
              "          dataTable['output_type'] = 'display_data';\n",
              "          await google.colab.output.renderOutput(dataTable, element);\n",
              "          const docLink = document.createElement('div');\n",
              "          docLink.innerHTML = docLinkHtml;\n",
              "          element.appendChild(docLink);\n",
              "        }\n",
              "      </script>\n",
              "    </div>\n",
              "  </div>\n",
              "  "
            ]
          },
          "metadata": {},
          "execution_count": 51
        }
      ]
    },
    {
      "cell_type": "markdown",
      "source": [
        "Model Building"
      ],
      "metadata": {
        "id": "CZxRu8Jxy85X"
      }
    },
    {
      "cell_type": "markdown",
      "source": [
        "LINEAR REGRESSION"
      ],
      "metadata": {
        "id": "Jz7bMLT-zBqS"
      }
    },
    {
      "cell_type": "code",
      "source": [
        "from sklearn.linear_model import LinearRegression\n",
        "from sklearn.model_selection import cross_val_score\n",
        "lr=LinearRegression()\n",
        "cvs=cross_val_score(lr,X_train,y_train,cv=3)\n",
        "print(cvs*100)"
      ],
      "metadata": {
        "colab": {
          "base_uri": "https://localhost:8080/"
        },
        "id": "3oTttz0xzA48",
        "outputId": "1a9b97f8-9395-45a3-c6b2-e330d7d76e13"
      },
      "execution_count": null,
      "outputs": [
        {
          "output_type": "stream",
          "name": "stdout",
          "text": [
            "[97.45340614 97.5985513  97.15903381]\n"
          ]
        }
      ]
    },
    {
      "cell_type": "markdown",
      "source": [
        "LASSO"
      ],
      "metadata": {
        "id": "igqCY5wk1Nj6"
      }
    },
    {
      "cell_type": "code",
      "source": [
        "from sklearn.linear_model import Lasso\n",
        "l=Lasso()\n",
        "cvs=cross_val_score(l,X_train,y_train,cv=3)\n",
        "print(cvs*100)"
      ],
      "metadata": {
        "colab": {
          "base_uri": "https://localhost:8080/"
        },
        "id": "j06Vy6700qVG",
        "outputId": "45eca138-fe89-4dac-f94a-b6912da17a6b"
      },
      "execution_count": null,
      "outputs": [
        {
          "output_type": "stream",
          "name": "stdout",
          "text": [
            "[97.06616957 97.25633667 95.17223135]\n"
          ]
        },
        {
          "output_type": "stream",
          "name": "stderr",
          "text": [
            "/usr/local/lib/python3.8/dist-packages/sklearn/linear_model/_coordinate_descent.py:647: ConvergenceWarning:\n",
            "\n",
            "Objective did not converge. You might want to increase the number of iterations, check the scale of the features or consider increasing regularisation. Duality gap: 1.128e+02, tolerance: 1.119e+01\n",
            "\n"
          ]
        }
      ]
    },
    {
      "cell_type": "markdown",
      "source": [
        "RIDGE"
      ],
      "metadata": {
        "id": "d8vaGiNO1Ou_"
      }
    },
    {
      "cell_type": "code",
      "source": [
        "from sklearn.linear_model import Ridge\n",
        "r=Ridge()\n",
        "cvs=cross_val_score(r,X_train,y_train,cv=3)\n",
        "print(cvs*100)"
      ],
      "metadata": {
        "colab": {
          "base_uri": "https://localhost:8080/"
        },
        "id": "U6kG_4aX1PuN",
        "outputId": "4d2dda82-e9a2-428b-fc9a-dbb2b96ab292"
      },
      "execution_count": null,
      "outputs": [
        {
          "output_type": "stream",
          "name": "stdout",
          "text": [
            "[97.48212158 97.61342092 97.1498902 ]\n"
          ]
        }
      ]
    },
    {
      "cell_type": "markdown",
      "source": [
        "XGBOOST"
      ],
      "metadata": {
        "id": "gNXFcRx75GZw"
      }
    },
    {
      "cell_type": "code",
      "source": [
        "import xgboost\n",
        "xg=xgboost.XGBRegressor()\n",
        "cvs=cross_val_score(xg,X_train,y_train,cv=3)\n",
        "print(cvs*100)\n"
      ],
      "metadata": {
        "colab": {
          "base_uri": "https://localhost:8080/"
        },
        "id": "m6ybbL3F5IMZ",
        "outputId": "6bd5e476-b78c-4934-f2e8-d32279b60956"
      },
      "execution_count": null,
      "outputs": [
        {
          "output_type": "stream",
          "name": "stdout",
          "text": [
            "[09:42:17] WARNING: /workspace/src/objective/regression_obj.cu:152: reg:linear is now deprecated in favor of reg:squarederror.\n",
            "[09:42:17] WARNING: /workspace/src/objective/regression_obj.cu:152: reg:linear is now deprecated in favor of reg:squarederror.\n",
            "[09:42:17] WARNING: /workspace/src/objective/regression_obj.cu:152: reg:linear is now deprecated in favor of reg:squarederror.\n",
            "[99.39274925 98.98264854 98.50910181]\n"
          ]
        }
      ]
    },
    {
      "cell_type": "markdown",
      "source": [
        "HYPERPARAMETER SELECTION"
      ],
      "metadata": {
        "id": "i147Do087Q5s"
      }
    },
    {
      "cell_type": "code",
      "source": [
        "from sklearn.model_selection import RandomizedSearchCV\n",
        "\n",
        "n_estimators=[100,500,900,1100,1500]\n",
        "max_depth=[2,3,5,10,15]\n",
        "min_child_weight=[1,2,3,4]\n",
        "booster=['gbtree','gblinear']\n",
        "learning_rate=[0.05,0.1,0.15,0.20]\n",
        "base_score=[0.25,0.50,0.75,1]\n",
        "\n",
        "hyp_grid={'min_child_weight':min_child_weight,'n_estimators':n_estimators,'max_depth':max_depth,'learning_rate':learning_rate,'booster':booster,'base_score':base_score}\n",
        "\n",
        "random_cv=RandomizedSearchCV(estimator=xg,param_distributions=hyp_grid,cv=3,n_iter=20,scoring='neg_mean_absolute_error',n_jobs=4,return_train_score=True,random_state=42)"
      ],
      "metadata": {
        "id": "dJNz5cjm7T7c"
      },
      "execution_count": null,
      "outputs": []
    },
    {
      "cell_type": "code",
      "source": [
        "random_cv.fit(X_train,y_train)"
      ],
      "metadata": {
        "colab": {
          "base_uri": "https://localhost:8080/"
        },
        "id": "YgdXHQS99Fi0",
        "outputId": "b08ff397-4d2a-44dc-9f71-8bf1225fa320"
      },
      "execution_count": null,
      "outputs": [
        {
          "output_type": "stream",
          "name": "stdout",
          "text": [
            "[10:07:16] WARNING: /workspace/src/objective/regression_obj.cu:152: reg:linear is now deprecated in favor of reg:squarederror.\n"
          ]
        },
        {
          "output_type": "execute_result",
          "data": {
            "text/plain": [
              "RandomizedSearchCV(cv=3, estimator=XGBRegressor(), n_iter=20, n_jobs=4,\n",
              "                   param_distributions={'base_score': [0.25, 0.5, 0.75, 1],\n",
              "                                        'booster': ['gbtree', 'gblinear'],\n",
              "                                        'learning_rate': [0.05, 0.1, 0.15, 0.2],\n",
              "                                        'max_depth': [2, 3, 5, 10, 15],\n",
              "                                        'min_child_weight': [1, 2, 3, 4],\n",
              "                                        'n_estimators': [100, 500, 900, 1100,\n",
              "                                                         1500]},\n",
              "                   random_state=42, return_train_score=True,\n",
              "                   scoring='neg_mean_absolute_error')"
            ]
          },
          "metadata": {},
          "execution_count": 97
        }
      ]
    },
    {
      "cell_type": "code",
      "source": [
        "random_cv.best_estimator_"
      ],
      "metadata": {
        "colab": {
          "base_uri": "https://localhost:8080/"
        },
        "id": "AAUGn1RqAT7n",
        "outputId": "fe712f67-e5e8-4cb9-d3e4-753ac0301a12"
      },
      "execution_count": null,
      "outputs": [
        {
          "output_type": "execute_result",
          "data": {
            "text/plain": [
              "XGBRegressor(base_score=0.75, learning_rate=0.05, min_child_weight=4,\n",
              "             n_estimators=1100)"
            ]
          },
          "metadata": {},
          "execution_count": 98
        }
      ]
    },
    {
      "cell_type": "code",
      "source": [
        "xg=xgboost.XGBRegressor(base_score=0.75, learning_rate=0.05, min_child_weight=4,\n",
        "             n_estimators=1100)\n"
      ],
      "metadata": {
        "id": "pnDN1b7YAseD"
      },
      "execution_count": null,
      "outputs": []
    },
    {
      "cell_type": "code",
      "source": [
        "xg.fit(X_train,y_train)"
      ],
      "metadata": {
        "colab": {
          "base_uri": "https://localhost:8080/"
        },
        "id": "2vXxuf0oBEX9",
        "outputId": "a4c10495-57fc-404a-9973-e8838f2bec29"
      },
      "execution_count": null,
      "outputs": [
        {
          "output_type": "stream",
          "name": "stdout",
          "text": [
            "[10:11:49] WARNING: /workspace/src/objective/regression_obj.cu:152: reg:linear is now deprecated in favor of reg:squarederror.\n"
          ]
        },
        {
          "output_type": "execute_result",
          "data": {
            "text/plain": [
              "XGBRegressor(base_score=0.75, learning_rate=0.05, min_child_weight=4,\n",
              "             n_estimators=1100)"
            ]
          },
          "metadata": {},
          "execution_count": 100
        }
      ]
    },
    {
      "cell_type": "code",
      "source": [
        "y_pred=xg.predict(X_test)\n",
        "\n",
        "plt.figure(figsize=(10,10))\n",
        "plt.scatter(y_test, y_pred, c='crimson')\n",
        "plt.yscale('log')\n",
        "plt.xscale('log')\n",
        "\n",
        "p1 = max(max(y_pred), max(y_test))\n",
        "p2 = min(min(y_pred), min(y_test))\n",
        "plt.plot([p1, p2], [p1, p2], 'b-')\n",
        "plt.xlabel('True Values', fontsize=15)\n",
        "plt.ylabel('Predictions', fontsize=15)\n",
        "plt.title(\"Accuracy Plot\")\n",
        "plt.axis('equal')\n",
        "plt.show()"
      ],
      "metadata": {
        "colab": {
          "base_uri": "https://localhost:8080/",
          "height": 629
        },
        "id": "bNdxsifqBQka",
        "outputId": "c458690c-d960-45c3-a57a-ba85927d67d5"
      },
      "execution_count": null,
      "outputs": [
        {
          "output_type": "display_data",
          "data": {
            "text/plain": [
              "<Figure size 720x720 with 1 Axes>"
            ],
            "image/png": "[encoded data removed]"
          },
          "metadata": {
            "needs_background": "light"
          }
        }
      ]
    },
    {
      "cell_type": "code",
      "source": [
        "from sklearn.metrics import mean_squared_error, r2_score\n",
        "import numpy as np\n",
        "rmse=np.sqrt(mean_squared_error(y_test, y_pred))\n",
        "print(rmse)\n",
        "r2_score(y_test, y_pred)"
      ],
      "metadata": {
        "colab": {
          "base_uri": "https://localhost:8080/"
        },
        "id": "3DAJlymsCDTG",
        "outputId": "91440e3a-2ef8-46a1-a7ab-2686b3d2deae"
      },
      "execution_count": null,
      "outputs": [
        {
          "output_type": "stream",
          "name": "stdout",
          "text": [
            "1.8553687078019663\n"
          ]
        },
        {
          "output_type": "execute_result",
          "data": {
            "text/plain": [
              "0.996540830492596"
            ]
          },
          "metadata": {},
          "execution_count": 106
        }
      ]
    }
  ],
  "metadata": {
    "colab": {
      "provenance": [],
      "authorship_tag": "ABX9TyPS4rx+EOeVYJJ0l5roC0n3",
      "include_colab_link": true
    },
    "kernelspec": {
      "display_name": "Python 3",
      "name": "python3"
    },
    "language_info": {
      "name": "python"
    }
  },
  "nbformat": 4,
  "nbformat_minor": 0
}